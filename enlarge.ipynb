{
 "cells": [
  {
   "cell_type": "markdown",
   "metadata": {},
   "source": [
    "## Englarge the dataset\n",
    "\n",
    "Data size for finetuning: 5000:\n",
    "- MS Marco: 1/3 -> 1666\n",
    "- Adversial QA: 1/3 -> 1666\n",
    "- Squad 2.0: 1/3 -> 1666\n",
    "\n",
    "\n",
    "For each set of QA, we can try two types of data preparing:\n",
    "1. A Q123\n",
    "2. A Q1, A Q2, A Q3"
   ]
  },
  {
   "cell_type": "markdown",
   "metadata": {},
   "source": [
    "### Prepare dataset"
   ]
  },
  {
   "cell_type": "markdown",
   "metadata": {},
   "source": [
    "##### Training (finetuning)"
   ]
  },
  {
   "cell_type": "code",
   "execution_count": 118,
   "metadata": {},
   "outputs": [],
   "source": [
    "# squad 2.0\n",
    "import pandas as pd\n",
    "squad = pd.read_json('train-v2.0.json')\n",
    "tmp = 0\n",
    "qa_list = []\n",
    "for i in range(len(squad['data'])):\n",
    "    if len(qa_list) > 4000:\n",
    "        break\n",
    "    for j in range(len(squad['data'][i]['paragraphs'])):\n",
    "        tmp = 0\n",
    "        context = squad['data'][i]['paragraphs'][j]['context']\n",
    "        for k in range(len(squad['data'][i]['paragraphs'][j]['qas'])):\n",
    "            if squad['data'][i]['paragraphs'][j]['qas'][k]['answers']:\n",
    "                if tmp == 2:\n",
    "                    break\n",
    "                answer = squad['data'][i]['paragraphs'][j]['qas'][k]['answers'][0]['text']\n",
    "                question = squad['data'][i]['paragraphs'][j]['qas'][k]['question']\n",
    "                qa_list.append([context, answer, question])\n",
    "                tmp += 1\n"
   ]
  },
  {
   "cell_type": "code",
   "execution_count": 119,
   "metadata": {},
   "outputs": [],
   "source": [
    "# MS MARCO\n",
    "import gzip\n",
    "import json\n",
    "dataset_path = '/home/tzujohsu/SI630/dev_v1.1.json.gz'\n",
    "ms_list = []\n",
    "with gzip.open(dataset_path, \"r\") as f:\n",
    "    for doc in f:\n",
    "        if len(nq_list) == 5000:\n",
    "            break\n",
    "        doc = doc.decode('utf-8')\n",
    "        doc = json.loads(doc)\n",
    "        if doc['answers']:\n",
    "            if 'what' in doc['query'] or 'how' in doc['query'] or 'why' in doc['query'] or 'which' in doc['query'] or 'when' in doc['query'] or 'where' in doc['query']:\n",
    "                for i in doc['passages']:\n",
    "                    if i['is_selected']:\n",
    "                        context = (i['passage_text'])\n",
    "                \n",
    "                lst = ([len(i.split()) for i in doc['answers']])\n",
    "                idx = lst.index(max(lst))\n",
    "                answer = doc['answers'][idx]\n",
    "                question = doc['query']\n",
    "                ms_list.append([context, answer, question])\n",
    "        "
   ]
  },
  {
   "cell_type": "code",
   "execution_count": 120,
   "metadata": {},
   "outputs": [],
   "source": [
    "# aqa dev\n",
    "import pandas as pd\n",
    "aqa = pd.read_json('aqa-dev.json')\n",
    "aqa = (list(aqa['data']))\n",
    "\n",
    "aqa_list = []\n",
    "for i in range(len(aqa)):\n",
    "    if len(aqa_list) > 5000:\n",
    "        break\n",
    "    for j in range(len(aqa[i]['paragraphs'])):\n",
    "        context = aqa[i]['paragraphs'][j]['context']\n",
    "        for k in range(7):\n",
    "            try:\n",
    "                question = aqa[i]['paragraphs'][j]['qas'][k]['question']\n",
    "                answer = aqa[i]['paragraphs'][j]['qas'][k]['answers'][0]['text']\n",
    "                aqa_list.append([context, question, answer])\n",
    "            except:\n",
    "                pass\n",
    "\n"
   ]
  },
  {
   "cell_type": "code",
   "execution_count": 121,
   "metadata": {},
   "outputs": [],
   "source": [
    "import random\n",
    "random.shuffle(qa_list)\n",
    "random.shuffle(ms_list)\n",
    "random.shuffle(aqa_list)"
   ]
  },
  {
   "cell_type": "code",
   "execution_count": 122,
   "metadata": {},
   "outputs": [
    {
     "data": {
      "text/plain": [
       "5000"
      ]
     },
     "execution_count": 122,
     "metadata": {},
     "output_type": "execute_result"
    }
   ],
   "source": [
    "combined = []\n",
    "combined.extend(qa_list[:1667])\n",
    "combined.extend(ms_list[:1667])\n",
    "combined.extend(aqa_list[:1666])\n",
    "len(combined)"
   ]
  },
  {
   "cell_type": "markdown",
   "metadata": {},
   "source": [
    "##### Evaluation"
   ]
  },
  {
   "cell_type": "code",
   "execution_count": 123,
   "metadata": {},
   "outputs": [
    {
     "data": {
      "text/plain": [
       "1500"
      ]
     },
     "execution_count": 123,
     "metadata": {},
     "output_type": "execute_result"
    }
   ],
   "source": [
    "# 1500\n",
    "eval = []\n",
    "eval.extend(qa_list[1667:1667+500])\n",
    "eval.extend(ms_list[1667:1667+500])\n",
    "eval.extend(aqa_list[1667:1667+500])\n",
    "len(eval)"
   ]
  },
  {
   "cell_type": "markdown",
   "metadata": {},
   "source": [
    "##### save data"
   ]
  },
  {
   "cell_type": "code",
   "execution_count": 1,
   "metadata": {},
   "outputs": [],
   "source": [
    "import pickle\n",
    "from tqdm import tqdm\n",
    "# with open(\"combined.pickle\", \"wb\") as fp:\n",
    "#     pickle.dump(combined, fp)\n",
    "\n",
    "# with open(\"eval.pickle\", \"wb\") as fp:\n",
    "#     pickle.dump(eval, fp)\n",
    "\n",
    "with open(\"combined.pickle\", \"rb\") as fp:\n",
    "    combined = pickle.load(fp)\n",
    "\n",
    "with open(\"eval.pickle\", \"rb\") as fp:\n",
    "    eval = pickle.load(fp)"
   ]
  },
  {
   "cell_type": "markdown",
   "metadata": {},
   "source": [
    "### paraphrase"
   ]
  },
  {
   "cell_type": "code",
   "execution_count": 12,
   "metadata": {},
   "outputs": [],
   "source": [
    "import torch\n",
    "from transformers import BartForConditionalGeneration, BartTokenizer\n",
    "\n",
    "device = torch.device(\"cuda\" if torch.cuda.is_available() else \"cpu\")\n",
    "\n",
    "bart_model = BartForConditionalGeneration.from_pretrained('eugenesiow/bart-paraphrase').to(device)\n",
    "bart_tokenizer = BartTokenizer.from_pretrained('eugenesiow/bart-paraphrase')"
   ]
  },
  {
   "cell_type": "code",
   "execution_count": 3,
   "metadata": {},
   "outputs": [
    {
     "name": "stderr",
     "output_type": "stream",
     "text": [
      "You are using the default legacy behaviour of the <class 'transformers.models.t5.tokenization_t5.T5Tokenizer'>. This is expected, and simply means that the `legacy` (previous) behavior will be used so nothing changes for you. If you want to use the new behaviour, set `legacy=False`. This should only be set if you understand what it means, and thouroughly read the reason why this was added as explained in https://github.com/huggingface/transformers/pull/24565\n"
     ]
    }
   ],
   "source": [
    "from transformers import AutoTokenizer, AutoModelForSeq2SeqLM\n",
    "t5_tokenizer = AutoTokenizer.from_pretrained(\"Vamsi/T5_Paraphrase_Paws\", use_fast=False)\n",
    "t5_model = AutoModelForSeq2SeqLM.from_pretrained(\"Vamsi/T5_Paraphrase_Paws\").to(device)"
   ]
  },
  {
   "cell_type": "code",
   "execution_count": 4,
   "metadata": {},
   "outputs": [],
   "source": [
    "from sentence_transformers import SentenceTransformer\n",
    "\n",
    "def cosine_similarity(tensor1, tensor2):\n",
    "    \"\"\"\n",
    "    Compute the cosine similarity between two tensors.\n",
    "    \"\"\"\n",
    "    tensor1_norm = tensor1 / tensor1.norm(dim=1, keepdim=True)\n",
    "    tensor2_norm = tensor2 / tensor2.norm(dim=1, keepdim=True)\n",
    "    return torch.mm(tensor1_norm, tensor2_norm.transpose(0, 1))\n",
    "\n",
    "embedding_model = 'all-MiniLM-L6-v2'  # or any other model you prefer\n",
    "sim_embedder = SentenceTransformer(embedding_model)"
   ]
  },
  {
   "cell_type": "code",
   "execution_count": null,
   "metadata": {},
   "outputs": [],
   "source": [
    "enlarged_v1 = []\n",
    "for data in tqdm(combined, total=5000):\n",
    "    context, answer, question = data[0], data[1], data[2]\n",
    "    paraphrases = []\n",
    "    \n",
    "    batch = bart_tokenizer(question, return_tensors='pt')\n",
    "    generated_ids = bart_model.generate(batch['input_ids'], do_sample = True, max_new_tokens = 20,\n",
    "                                   top_k = 250, top_p = 1.5, num_return_sequences = 3)\n",
    "\n",
    "    paraphrases.extend(bart_tokenizer.batch_decode(generated_ids, skip_special_tokens=True))\n",
    "    \n",
    "\n",
    "    encoding = t5_tokenizer.encode_plus(question, return_tensors=\"pt\")\n",
    "    input_ids, attention_masks = encoding[\"input_ids\"], encoding[\"attention_mask\"]\n",
    "    generated_ids = t5_model.generate(input_ids=input_ids, attention_mask=attention_masks, do_sample = True, max_new_tokens = 50, \n",
    "                                    top_k = 250, top_p = 1.5, num_return_sequences = 3)\n",
    "    for output in generated_ids:\n",
    "        line = t5_tokenizer.decode(output, skip_special_tokens=True,clean_up_tokenization_spaces=True)\n",
    "        paraphrases.append(line)\n",
    "\n",
    "    original_embedding = sim_embedder.encode([question], convert_to_tensor=True)\n",
    "    paraphrase_embeddings = sim_embedder.encode(paraphrases, convert_to_tensor=True)\n",
    "\n",
    "    # filter out paraphrased questions that have high similarities\n",
    "    similarities = cosine_similarity(original_embedding, paraphrase_embeddings).squeeze(0).tolist()\n",
    "    # selected_paraphrases = {paraphrase: similarity for paraphrase, similarity in zip(paraphrases, similarities) if 0.96 <= similarity <= 0.99}\n",
    "    selected_paraphrases = [paraphrase for paraphrase, similarity in zip(paraphrases, similarities) if 0.96 <= similarity <= 0.99]\n",
    "    if selected_paraphrases:\n",
    "        q = [question]\n",
    "        q.extend(selected_paraphrases)    \n",
    "        enlarged_v1.append([context, answer, q])\n",
    "    else:\n",
    "        enlarged_v1.append([context, answer, [question]])\n",
    "    "
   ]
  },
  {
   "cell_type": "code",
   "execution_count": null,
   "metadata": {},
   "outputs": [],
   "source": [
    "enlarged_eval = []\n",
    "for data in tqdm(eval, total=1500):\n",
    "    context, answer, question = data[0], data[1], data[2]\n",
    "    paraphrases = []\n",
    "    \n",
    "    batch = bart_tokenizer(question, return_tensors='pt')\n",
    "    generated_ids = bart_model.generate(batch['input_ids'], do_sample = True, max_new_tokens = 20,\n",
    "                                   top_k = 250, top_p = 1.5, num_return_sequences = 3)\n",
    "\n",
    "    paraphrases.extend(bart_tokenizer.batch_decode(generated_ids, skip_special_tokens=True))\n",
    "    \n",
    "\n",
    "    encoding = t5_tokenizer.encode_plus(question, return_tensors=\"pt\")\n",
    "    input_ids, attention_masks = encoding[\"input_ids\"], encoding[\"attention_mask\"]\n",
    "    generated_ids = t5_model.generate(input_ids=input_ids, attention_mask=attention_masks, do_sample = True, max_new_tokens = 50, \n",
    "                                    top_k = 250, top_p = 1.5, num_return_sequences = 3)\n",
    "    for output in generated_ids:\n",
    "        line = t5_tokenizer.decode(output, skip_special_tokens=True,clean_up_tokenization_spaces=True)\n",
    "        paraphrases.append(line)\n",
    "\n",
    "    original_embedding = sim_embedder.encode([question], convert_to_tensor=True)\n",
    "    paraphrase_embeddings = sim_embedder.encode(paraphrases, convert_to_tensor=True)\n",
    "\n",
    "    # filter out paraphrased questions that have high similarities\n",
    "    similarities = cosine_similarity(original_embedding, paraphrase_embeddings).squeeze(0).tolist()\n",
    "    # selected_paraphrases = {paraphrase: similarity for paraphrase, similarity in zip(paraphrases, similarities) if 0.96 <= similarity <= 0.99}\n",
    "    selected_paraphrases = [paraphrase for paraphrase, similarity in zip(paraphrases, similarities) if 0.96 <= similarity <= 0.99]\n",
    "    if selected_paraphrases:\n",
    "        q = [question]\n",
    "        q.extend(selected_paraphrases)    \n",
    "        enlarged_eval.append([context, answer, q])\n",
    "    else:\n",
    "        enlarged_eval.append([context, answer, [question]])\n",
    "    "
   ]
  },
  {
   "cell_type": "code",
   "execution_count": null,
   "metadata": {},
   "outputs": [],
   "source": [
    "with open(\"ennlarged_finetune.pickle\", \"wb\") as fp:\n",
    "    pickle.dump(enlarged_v1, fp)\n",
    "\n",
    "with open(\"ennlarged_eval.pickle\", \"wb\") as fp:\n",
    "    pickle.dump(enlarged_eval, fp)"
   ]
  }
 ],
 "metadata": {
  "kernelspec": {
   "display_name": "Python 3",
   "language": "python",
   "name": "python3"
  },
  "language_info": {
   "codemirror_mode": {
    "name": "ipython",
    "version": 3
   },
   "file_extension": ".py",
   "mimetype": "text/x-python",
   "name": "python",
   "nbconvert_exporter": "python",
   "pygments_lexer": "ipython3",
   "version": "3.10.12"
  }
 },
 "nbformat": 4,
 "nbformat_minor": 2
}
